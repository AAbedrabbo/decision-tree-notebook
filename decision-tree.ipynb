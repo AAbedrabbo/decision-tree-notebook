{
 "cells": [
  {
   "cell_type": "markdown",
   "metadata": {},
   "source": [
    "# Python Decision Tree\n",
    "A Jupyter notebook for building a machine learning decision tree."
   ]
  },
  {
   "cell_type": "markdown",
   "metadata": {},
   "source": [
    "Before we begin, we need to install three packages of code that we will use later on:"
   ]
  },
  {
   "cell_type": "code",
   "execution_count": null,
   "metadata": {},
   "outputs": [],
   "source": [
    "!pip install pandas  # to read our csv file\n",
    "!pip install sklearn # to build a decision tree that can learn\n",
    "!pip install scipy   # sklearn (above) needs this to work (it helps it handle lots of numbers)"
   ]
  },
  {
   "cell_type": "markdown",
   "metadata": {},
   "source": [
    "## 1. Import libraries"
   ]
  },
  {
   "cell_type": "code",
   "execution_count": null,
   "metadata": {
    "collapsed": true
   },
   "outputs": [],
   "source": []
  },
  {
   "cell_type": "markdown",
   "metadata": {},
   "source": [
    "## 2. Load data"
   ]
  },
  {
   "cell_type": "code",
   "execution_count": null,
   "metadata": {
    "collapsed": true
   },
   "outputs": [],
   "source": []
  },
  {
   "cell_type": "code",
   "execution_count": null,
   "metadata": {},
   "outputs": [],
   "source": []
  },
  {
   "cell_type": "markdown",
   "metadata": {},
   "source": [
    "## 3. Build and fit decision tree"
   ]
  },
  {
   "cell_type": "code",
   "execution_count": null,
   "metadata": {
    "collapsed": true
   },
   "outputs": [],
   "source": []
  },
  {
   "cell_type": "markdown",
   "metadata": {},
   "source": [
    "<br><br><br><br><br><br>\n",
    "## 4. Output fitted decision tree"
   ]
  },
  {
   "cell_type": "markdown",
   "metadata": {},
   "source": [
    "\"rules\" function for outputting tree rules in json format. Taken, and adapted, from https://planspace.org/20151129-see_sklearn_trees_with_d3/"
   ]
  },
  {
   "cell_type": "code",
   "execution_count": null,
   "metadata": {
    "collapsed": true
   },
   "outputs": [],
   "source": [
    "#Python 3 version\n",
    "import csv\n",
    "\n",
    "#Load in column titles\n",
    "with open('hr_data.csv', 'r') as f:\n",
    "    d_reader = csv.DictReader(f)\n",
    "    headers = d_reader.fieldnames\n",
    "    \n",
    "hrnames_feature = headers[4:-1]\n",
    "hrnames_target = headers[-1]\n",
    "\n",
    "# Convert sklearn clf in to json format with column titles\n",
    "def rules(clf, features, labels, node_index=0):\n",
    "    node = {}\n",
    "    \n",
    "    if clf.tree_.children_left[node_index] == -1:  # indicates leaf\n",
    "        count_labels = list(zip(clf.tree_.value[node_index, 0], labels))\n",
    "        percent_chance = count_labels[1][0]/(count_labels[1][0]+count_labels[0][0])*100\n",
    "        n = int(count_labels[0][0] + count_labels[1][0])\n",
    "        node['name'] = '{}% chance of leaving, n = {}'.format(round(percent_chance,2), n)\n",
    "    else:\n",
    "        feature = features[clf.tree_.feature[node_index]]\n",
    "        threshold = clf.tree_.threshold[node_index]\n",
    "        node['name'] = '{} > {}'.format(feature, round(threshold,2))\n",
    "        left_index = clf.tree_.children_left[node_index]\n",
    "        right_index = clf.tree_.children_right[node_index]\n",
    "        node['children'] = [rules(clf, features, labels, right_index),\n",
    "                            rules(clf, features, labels, left_index)]\n",
    "    return node\n",
    "\n",
    "def display_gif(fn):\n",
    "    from IPython import display\n",
    "    return display.HTML('<img src=\"{}\">'.format(fn))"
   ]
  },
  {
   "cell_type": "markdown",
   "metadata": {},
   "source": [
    "### Use \"rules\" function and write new file \"hrrules.json\""
   ]
  },
  {
   "cell_type": "code",
   "execution_count": null,
   "metadata": {
    "collapsed": true
   },
   "outputs": [],
   "source": [
    "import json\n",
    "\n",
    "# Generate fitted rules json\n",
    "r = rules(clf, hrnames_feature, hrnames_target)\n",
    "with open('hr_rules.json', 'w') as f:\n",
    "    f.write(json.dumps(r))\n",
    "\n",
    "display_gif('https://media.giphy.com/media/g9582DNuQppxC/giphy.gif')"
   ]
  }
 ],
 "metadata": {
  "kernelspec": {
   "display_name": "Python 2",
   "language": "python",
   "name": "python2"
  },
  "language_info": {
   "codemirror_mode": {
    "name": "ipython",
    "version": 2
   },
   "file_extension": ".py",
   "mimetype": "text/x-python",
   "name": "python",
   "nbconvert_exporter": "python",
   "pygments_lexer": "ipython2",
   "version": "2.7.13"
  }
 },
 "nbformat": 4,
 "nbformat_minor": 2
}
